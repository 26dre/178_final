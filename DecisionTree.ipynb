{
 "cells": [
  {
   "cell_type": "code",
   "execution_count": 1,
   "metadata": {},
   "outputs": [
    {
     "data": {
      "image/png": "[encoded data removed]",
      "text/plain": [
       "<Figure size 1000x200 with 3 Axes>"
      ]
     },
     "metadata": {},
     "output_type": "display_data"
    },
    {
     "name": "stdout",
     "output_type": "stream",
     "text": [
      "Training dataset size: 50000 samples, each with 3072 features\n",
      "Testing dataset size: 10000 samples, each with 3072 features\n",
      "Starting training for Random Forest with 1 trees\n",
      "Training completed for Random Forest with 1 trees\n",
      "Random Forest (1 trees):\n",
      "  Training accuracy: 0.7178\n",
      "  Testing accuracy: 0.2444\n",
      "Starting training for Random Forest with 3 trees\n",
      "Training completed for Random Forest with 3 trees\n",
      "Random Forest (3 trees):\n",
      "  Training accuracy: 0.8524\n",
      "  Testing accuracy: 0.2656\n",
      "Starting training for Random Forest with 5 trees\n",
      "Training completed for Random Forest with 5 trees\n",
      "Random Forest (5 trees):\n",
      "  Training accuracy: 0.9463\n",
      "  Testing accuracy: 0.3053\n",
      "Starting training for Random Forest with 10 trees\n",
      "Training completed for Random Forest with 10 trees\n",
      "Random Forest (10 trees):\n",
      "  Training accuracy: 0.9932\n",
      "  Testing accuracy: 0.3566\n",
      "Starting training for Random Forest with 50 trees\n",
      "Training completed for Random Forest with 50 trees\n",
      "Random Forest (50 trees):\n",
      "  Training accuracy: 1.0000\n",
      "  Testing accuracy: 0.4475\n"
     ]
    }
   ],
   "source": [
    "import os\n",
    "import numpy as np\n",
    "import pickle\n",
    "from sklearn.ensemble import RandomForestClassifier\n",
    "from sklearn.metrics import accuracy_score\n",
    "import matplotlib.pyplot as plt\n",
    "\n",
    "data_dir = '/workspace/178/projects/cifar-10-batches-py'\n",
    "\n",
    "def load_batch(file_path):\n",
    "    \"\"\"Load batch of data from CIFAR-10 dataset.\"\"\"\n",
    "    with open(file_path, 'rb') as file:\n",
    "        batch = pickle.load(file, encoding='latin1')\n",
    "        images = batch['data']\n",
    "        labels = batch['labels']\n",
    "        return images, np.array(labels)\n",
    "\n",
    "def convert_to_numpy(data_dir):\n",
    "    \"\"\"Converts CIFAR-10 dataset to numpy arrays.\"\"\"\n",
    "    train_files = ['data_batch_1', 'data_batch_2', 'data_batch_3', 'data_batch_4', 'data_batch_5']\n",
    "    test_file = 'test_batch'\n",
    "\n",
    "    train_images_list, train_labels_list = [], []\n",
    "    for file_name in train_files:\n",
    "        images, labels = load_batch(os.path.join(data_dir, file_name))\n",
    "        train_images_list.append(images)\n",
    "        train_labels_list.append(labels)\n",
    "\n",
    "    train_images = np.concatenate(train_images_list, axis=0)\n",
    "    train_labels = np.concatenate(train_labels_list, axis=0)\n",
    "    test_images, test_labels = load_batch(os.path.join(data_dir, test_file))\n",
    "    \n",
    "    return train_images, train_labels, test_images, test_labels\n",
    "\n",
    "train_data, train_labels, test_data, test_labels = convert_to_numpy('/workspace/178/projects/cifar-10-batches-py')\n",
    "\n",
    "def show_images(images, num_images=3):\n",
    "    images = images.reshape(-1, 3, 32, 32).transpose(0, 2, 3, 1) \n",
    "    fig, axes = plt.subplots(1, num_images, figsize=(10, 2))\n",
    "    for i, ax in enumerate(axes):\n",
    "        ax.imshow(images[i])\n",
    "        ax.axis('off')\n",
    "    plt.show()\n",
    "\n",
    "\n",
    "train_images, train_labels, test_images, test_labels = convert_to_numpy(data_dir)\n",
    "show_images(train_images)  # Display the first few images from the train set\n",
    "\n",
    "\n",
    "print(f\"Training dataset size: {train_data.shape[0]} samples, each with {train_data.shape[1]} features\")\n",
    "print(f\"Testing dataset size: {test_data.shape[0]} samples, each with {test_data.shape[1]} features\")\n",
    "\n",
    "n_estimators_values = [1, 3, 5, 10, 50]\n",
    "\n",
    "for n_estimators in n_estimators_values:\n",
    "    print(f\"Starting training for Random Forest with {n_estimators} trees\")\n",
    "    rf_classifier = RandomForestClassifier(n_estimators=n_estimators)\n",
    "\n",
    "    rf_classifier.fit(train_data, train_labels)\n",
    "    print(f\"Training completed for Random Forest with {n_estimators} trees\")\n",
    "\n",
    "    train_pred_labels = rf_classifier.predict(train_data)\n",
    "    train_accuracy = accuracy_score(train_labels, train_pred_labels)\n",
    "\n",
    "    test_pred_labels = rf_classifier.predict(test_data)\n",
    "    test_accuracy = accuracy_score(test_labels, test_pred_labels)\n",
    "\n",
    "    print(f\"Random Forest ({n_estimators} trees):\")\n",
    "    print(f\"  Training accuracy: {train_accuracy:.4f}\")\n",
    "    print(f\"  Testing accuracy: {test_accuracy:.4f}\")\n"
   ]
  }
 ],
 "metadata": {
  "kernelspec": {
   "display_name": "Python 3",
   "language": "python",
   "name": "python3"
  },
  "language_info": {
   "codemirror_mode": {
    "name": "ipython",
    "version": 3
   },
   "file_extension": ".py",
   "mimetype": "text/x-python",
   "name": "python",
   "nbconvert_exporter": "python",
   "pygments_lexer": "ipython3",
   "version": "3.10.12"
  }
 },
 "nbformat": 4,
 "nbformat_minor": 2
}
