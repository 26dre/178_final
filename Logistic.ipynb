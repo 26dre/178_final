{
 "cells": [
  {
   "cell_type": "code",
   "execution_count": 2,
   "metadata": {},
   "outputs": [],
   "source": [
    "import math\n",
    "import numpy as np\n",
    "import pandas as pd\n",
    "import matplotlib.pyplot as plt\n",
    "\n",
    "import os\n",
    "import pickle\n",
    "\n",
    "from sklearn.linear_model import LogisticRegression\n",
    "from sklearn.feature_extraction.text import CountVectorizer\n",
    "from sklearn.model_selection import train_test_split\n",
    "from sklearn.preprocessing import StandardScaler\n",
    "from sklearn.metrics import accuracy_score\n"
   ]
  },
  {
   "cell_type": "code",
   "execution_count": 3,
   "metadata": {},
   "outputs": [],
   "source": [
    "data_dir = 'cifar-10-batches-py'\n",
    "\n",
    "def convert_to_numpy(data_dir): \n",
    "    \"\"\" \n",
    "    Returns the following into a numpy array:\n",
    "    - training images (50_000, 3072)\n",
    "    - training labels (50_000, )\n",
    "    - testing images (10_000, 3072)\n",
    "    - testing labels (10_000) \n",
    "    \"\"\"\n",
    "    train_files = ['data_batch_1', 'data_batch_2', 'data_batch_3', 'data_batch_4', 'data_batch_5']\n",
    "    test_file = 'test_batch'\n",
    "\n",
    "    def load_batch(file_path):\n",
    "        with open(file_path, 'rb') as file:\n",
    "            batch = pickle.load(file, encoding='bytes')\n",
    "            images = batch[b'data']\n",
    "            labels = batch[b'labels']\n",
    "\n",
    "            # convert labels to numpy array\n",
    "            labels = np.array(labels)\n",
    "            return images, labels\n",
    "\n",
    "    # load training data\n",
    "    train_images_list = []\n",
    "    train_labels_list = []\n",
    "\n",
    "    for file_name in train_files:\n",
    "        file_path = os.path.join(data_dir, file_name)\n",
    "        images, labels = load_batch(file_path)\n",
    "        train_images_list.append(images)\n",
    "        train_labels_list.append(labels)\n",
    "\n",
    "    # concatenate all training data\n",
    "    train_images = np.concatenate(train_images_list, axis=0)\n",
    "    train_labels = np.concatenate(train_labels_list, axis=0)\n",
    "\n",
    "    # load test data\n",
    "    test_file_path = os.path.join(data_dir, test_file)\n",
    "    test_images, test_labels = load_batch(test_file_path)\n",
    "\n",
    "    # convert to numpy arrays\n",
    "    train_images = np.array(train_images)\n",
    "    train_labels = np.array(train_labels)\n",
    "    test_images = np.array(test_images)\n",
    "    test_labels = np.array(test_labels)\n",
    "\n",
    "     \n",
    "    return train_images, train_labels, test_images, test_labels"
   ]
  },
  {
   "cell_type": "code",
   "execution_count": 4,
   "metadata": {},
   "outputs": [
    {
     "name": "stdout",
     "output_type": "stream",
     "text": [
      "\n",
      "Training a model with 50000 examples...\n"
     ]
    },
    {
     "name": "stderr",
     "output_type": "stream",
     "text": [
      "/opt/miniconda3/envs/cs178/lib/python3.10/site-packages/sklearn/linear_model/_logistic.py:469: ConvergenceWarning: lbfgs failed to converge (status=1):\n",
      "STOP: TOTAL NO. of ITERATIONS REACHED LIMIT.\n",
      "\n",
      "Increase the number of iterations (max_iter) or scale the data as shown in:\n",
      "    https://scikit-learn.org/stable/modules/preprocessing.html\n",
      "Please also refer to the documentation for alternative solver options:\n",
      "    https://scikit-learn.org/stable/modules/linear_model.html#logistic-regression\n",
      "  n_iter_i = _check_optimize_result(\n"
     ]
    },
    {
     "name": "stdout",
     "output_type": "stream",
     "text": [
      "\n",
      "Training accuracy: 42.58\n",
      "\n",
      "Testing accuracy: 40.24\n"
     ]
    }
   ],
   "source": [
    "data_dir = 'cifar-10-batches-py'\n",
    "\n",
    "train_images, train_labels, test_images, test_labels = convert_to_numpy(data_dir)\n",
    "\n",
    "logistic_classifier = LogisticRegression()\n",
    "\n",
    "print('\\nTraining a model with', train_images.shape[0], 'examples...')\n",
    "\n",
    "# training\n",
    "logistic_classifier.fit(train_images, train_labels)\n",
    "\n",
    "# computing training accuracy\n",
    "train_predictions = logistic_classifier.predict(train_images)\n",
    "train_accuracy = accuracy_score(train_labels, train_predictions)\n",
    "print('\\nTraining accuracy:', format(100 * train_accuracy , '.2f')) \n",
    "\n",
    "# computing testing accuracy\n",
    "test_predictions = logistic_classifier.predict(test_images)\n",
    "test_accuracy = accuracy_score(test_labels, test_predictions)\n",
    "\n",
    "print('\\nTesting accuracy:', format(100 * test_accuracy , '.2f'))\n"
   ]
  }
 ],
 "metadata": {
  "kernelspec": {
   "display_name": "cs178",
   "language": "python",
   "name": "python3"
  },
  "language_info": {
   "codemirror_mode": {
    "name": "ipython",
    "version": 3
   },
   "file_extension": ".py",
   "mimetype": "text/x-python",
   "name": "python",
   "nbconvert_exporter": "python",
   "pygments_lexer": "ipython3",
   "version": "3.10.14"
  }
 },
 "nbformat": 4,
 "nbformat_minor": 2
}
